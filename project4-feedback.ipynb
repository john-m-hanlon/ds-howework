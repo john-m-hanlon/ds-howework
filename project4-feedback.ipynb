{
 "cells": [
  {
   "cell_type": "markdown",
   "metadata": {},
   "source": [
    "## Feedback\n",
    "Nice work!\n",
    "\n",
    "| Requirements | Incomplete (0) | Does Not Meet Expectations (1) | Meets Expectations (2) | Exceeds Expectations (3) |\n",
    "|---|---|---|---|---|\n",
    "| Outlined methods and models | | | |X |\n",
    "| Articulation of \"specific aim\" and datasets | | | | X|\n",
    "| Risks and assumptions | | | |X |\n",
    "| Goals and criteria for success | | | | X|\n",
    "| Exploratory data analysis overview with visualizations and statistical analysis | | |X | |\n",
    "| Writeup with interpretation of findings, an executive summary, conclusions, and next steps | | | |X |"
   ]
  },
  {
   "cell_type": "code",
   "execution_count": null,
   "metadata": {
    "collapsed": true
   },
   "outputs": [],
   "source": []
  }
 ],
 "metadata": {
  "kernelspec": {
   "display_name": "Python 2",
   "language": "python",
   "name": "python2"
  },
  "language_info": {
   "codemirror_mode": {
    "name": "ipython",
    "version": 2
   },
   "file_extension": ".py",
   "mimetype": "text/x-python",
   "name": "python",
   "nbconvert_exporter": "python",
   "pygments_lexer": "ipython2",
   "version": "2.7.12"
  }
 },
 "nbformat": 4,
 "nbformat_minor": 0
}
