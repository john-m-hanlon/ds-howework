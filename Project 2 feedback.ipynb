{
 "cells": [
  {
   "cell_type": "code",
   "execution_count": 1,
   "metadata": {
    "collapsed": false
   },
   "outputs": [
    {
     "name": "stdout",
     "output_type": "stream",
     "text": [
      "How many observations are there in our dataset?\n",
      "There are 400 total observaions in our dataset\n",
      "------------------------------------------------\n",
      "Create a summary table\n",
      "Summary table of Admissions, GRE, GPA, and undergraduate school prestige\n",
      "            admit         gre        gpa    prestige\n",
      "count  400.000000  398.000000  398.00000  399.000000\n",
      "mean     0.317500  588.040201    3.39093    2.486216\n",
      "std      0.466087  115.628513    0.38063    0.945333\n",
      "min      0.000000  220.000000    2.26000    1.000000\n",
      "25%      0.000000         NaN        NaN         NaN\n",
      "50%      0.000000         NaN        NaN         NaN\n",
      "75%      1.000000         NaN        NaN         NaN\n",
      "max      1.000000  800.000000    4.00000    4.000000\n",
      "------------------------------------------------\n"
     ]
    },
    {
     "name": "stderr",
     "output_type": "stream",
     "text": [
      "/Users/pt/anaconda/lib/python2.7/site-packages/numpy/lib/function_base.py:3403: RuntimeWarning: Invalid value encountered in median\n",
      "  RuntimeWarning)\n"
     ]
    }
   ],
   "source": [
    "from __future__ import division\n",
    "import pandas as pd\n",
    "import numpy as np\n",
    "import matplotlib.pyplot as plt\n",
    "import statsmodels.api as sm\n",
    "import pylab as pl\n",
    "import numpy as np\n",
    "import scipy.stats as stats\n",
    "%matplotlib inline\n",
    "\n",
    "df_raw = pd.read_csv('admissions.csv')\n",
    "df_raw.head()\n",
    "\n",
    "print('How many observations are there in our dataset?')\n",
    "print('There are 400 total observaions in our dataset')\n",
    "print('------------------------------------------------')\n",
    "\n",
    "print('Create a summary table')\n",
    "print('Summary table of Admissions, GRE, GPA, and undergraduate school prestige')\n",
    "print(df_raw.describe())\n",
    "print('------------------------------------------------')\n"
   ]
  },
  {
   "cell_type": "code",
   "execution_count": 2,
   "metadata": {
    "collapsed": false
   },
   "outputs": [
    {
     "name": "stdout",
     "output_type": "stream",
     "text": [
      "Why would GRE have a larger STD than GPA?\n",
      "GRE has a larger STD than GPA due to the range of the values. The GRE range is 580, whereas the GPA range is 1.74. A single STD unit from the GRE mean is much larger than a single STD unit from the GPA mean.\n",
      "------------------------------------------------\n",
      "Question 4. Drop data points with missing data\n",
      "            admit         gre         gpa    prestige\n",
      "count  397.000000  397.000000  397.000000  397.000000\n",
      "mean     0.317380  587.858942    3.392242    2.488665\n",
      "std      0.466044  115.717787    0.380208    0.947083\n",
      "min      0.000000  220.000000    2.260000    1.000000\n",
      "25%      0.000000  520.000000    3.130000    2.000000\n",
      "50%      0.000000  580.000000    3.400000    2.000000\n",
      "75%      1.000000  660.000000    3.670000    3.000000\n",
      "max      1.000000  800.000000    4.000000    4.000000\n",
      "------------------------------------------------\n"
     ]
    }
   ],
   "source": [
    "\n",
    "\n",
    "print('Why would GRE have a larger STD than GPA?')\n",
    "print('GRE has a larger STD than GPA due to the range of the values. The GRE range is 580, whereas the GPA range is 1.74. A single STD unit from the GRE mean is much larger than a single STD unit from the GPA mean.')\n",
    "print('------------------------------------------------')\n",
    "\n",
    "\n",
    "print('Question 4. Drop data points with missing data')\n",
    "df = df_raw[:].dropna()\n",
    "print(df.describe())\n",
    "print('------------------------------------------------')\n"
   ]
  },
  {
   "cell_type": "code",
   "execution_count": 3,
   "metadata": {
    "collapsed": false
   },
   "outputs": [
    {
     "name": "stdout",
     "output_type": "stream",
     "text": [
      "Question 5. Confirm that you dropped the correct data. How can you tell?\n",
      "You can tell that all the NAN data has been dropped by reviewing the count data. The data was previously not uniform across the different columns. Following the execution of dropna(), we now see that the total count for each variable is the same, meaning all the NAN figures have been dropped.\n",
      "------------------------------------------------\n"
     ]
    }
   ],
   "source": [
    "\n",
    "print('Question 5. Confirm that you dropped the correct data. How can you tell?')\n",
    "print('You can tell that all the NAN data has been dropped by reviewing the count data. The data was previously not uniform across the different columns. Following the execution of dropna(), we now see that the total count for each variable is the same, meaning all the NAN figures have been dropped.')\n",
    "print('------------------------------------------------')\n",
    "\n"
   ]
  },
  {
   "cell_type": "markdown",
   "metadata": {},
   "source": [
    ">**Comments**: you could also, to be more rigorous, explicitly count the number of missing values in each column using df.isnull().sum()"
   ]
  },
  {
   "cell_type": "code",
   "execution_count": 4,
   "metadata": {
    "collapsed": false
   },
   "outputs": [
    {
     "name": "stdout",
     "output_type": "stream",
     "text": [
      "Question 6. Create box plots for GRE and GPA\n"
     ]
    },
    {
     "data": {
      "image/png": "[encoded data removed]",
      "text/plain": [
       "<matplotlib.figure.Figure at 0x10419ee50>"
      ]
     },
     "metadata": {},
     "output_type": "display_data"
    },
    {
     "data": {
      "image/png": "[encoded data removed]",
      "text/plain": [
       "<matplotlib.figure.Figure at 0x11735d810>"
      ]
     },
     "metadata": {},
     "output_type": "display_data"
    },
    {
     "name": "stdout",
     "output_type": "stream",
     "text": [
      "------------------------------------------------\n",
      "Question 7. What do these plots show?\n",
      "These plots show: median, interquartile range, max / min, outliers\n",
      "------------------------------------------------\n"
     ]
    }
   ],
   "source": [
    "print('Question 6. Create box plots for GRE and GPA')\n",
    "\n",
    "plt.title('GRE Box Plot')\n",
    "plt.boxplot(df['gre'])\n",
    "plt.show()\n",
    "\n",
    "plt.title('GPA Box Plot')\n",
    "plt.boxplot(df['gpa'])\n",
    "plt.show()\n",
    "print('------------------------------------------------')\n",
    "\n",
    "print('Question 7. What do these plots show?')\n",
    "print('These plots show: median, interquartile range, max / min, outliers')\n",
    "print('------------------------------------------------')\n",
    "\n"
   ]
  },
  {
   "cell_type": "code",
   "execution_count": 5,
   "metadata": {
    "collapsed": false
   },
   "outputs": [
    {
     "name": "stdout",
     "output_type": "stream",
     "text": [
      "Question 8. Describe each distribution\n",
      "            admit         gre         gpa    prestige\n",
      "count  397.000000  397.000000  397.000000  397.000000\n",
      "mean     0.317380  587.858942    3.392242    2.488665\n",
      "std      0.466044  115.717787    0.380208    0.947083\n",
      "min      0.000000  220.000000    2.260000    1.000000\n",
      "25%      0.000000  520.000000    3.130000    2.000000\n",
      "50%      0.000000  580.000000    3.400000    2.000000\n",
      "75%      1.000000  660.000000    3.670000    3.000000\n",
      "max      1.000000  800.000000    4.000000    4.000000\n",
      "('The distribution of the variable', 'admit', 'is:', 0.7876691478505351)\n",
      "('The kurtosis of the variable', 'admit', 'is:', -1.3865881769308692)\n",
      "\n",
      "('The distribution of the variable', 'gre', 'is:', -0.146046988215597)\n",
      "('The kurtosis of the variable', 'gre', 'is:', -0.33286435465143427)\n",
      "\n",
      "('The distribution of the variable', 'gpa', 'is:', -0.21688893296924305)\n",
      "('The kurtosis of the variable', 'gpa', 'is:', -0.56356989952216807)\n",
      "\n",
      "('The distribution of the variable', 'prestige', 'is:', 0.086505552897055041)\n",
      "('The kurtosis of the variable', 'prestige', 'is:', -0.90103795489017591)\n",
      "\n",
      "------------------------------------------------\n"
     ]
    },
    {
     "data": {
      "image/png": "[encoded data removed]",
      "text/plain": [
       "<matplotlib.figure.Figure at 0x11a16fed0>"
      ]
     },
     "metadata": {},
     "output_type": "display_data"
    }
   ],
   "source": [
    "print('Question 8. Describe each distribution')\n",
    "print(df.describe())\n",
    "for i in df:\n",
    "\tprint('The distribution of the variable',i,'is:',df[i].skew())\n",
    "\tprint('The kurtosis of the variable',i,'is:',df[i].kurt())\n",
    "\tprint('')\n",
    "\n",
    "df.plot(kind='density', xlim=(-5,5))\n",
    "#plt.show()\n",
    "\n",
    "print('------------------------------------------------')\n",
    "\n"
   ]
  },
  {
   "cell_type": "code",
   "execution_count": 6,
   "metadata": {
    "collapsed": false
   },
   "outputs": [
    {
     "name": "stdout",
     "output_type": "stream",
     "text": [
      "Question 9. If our model had an assumption of a normal distribution would we meet that requirement?\n",
      "No, by looking at the skewness, kurtosis, and the graphical representation, we can see that the dataset is not normalized, thus any insights from the analysis may not be able to be reproduced in another study\n",
      "------------------------------------------------\n",
      "Question 10. Does this distribution need correction? If so, why? How?\n",
      "There are two ways to correct the dataset and obtain a normalized dataset. We can either reduce the STD or increase the sample size. Reducing the STD would entail a dataset that is closer to the mean. Additionally, to increase the sampe size we would need a dataset larger than 397 observations to analyze.\n",
      "------------------------------------------------\n"
     ]
    }
   ],
   "source": [
    "print('Question 9. If our model had an assumption of a normal distribution would we meet that requirement?')\n",
    "print('No, by looking at the skewness, kurtosis, and the graphical representation, we can see that the dataset is not normalized, thus any insights from the analysis may not be able to be reproduced in another study')\n",
    "print('------------------------------------------------')\n",
    "\n",
    "\n",
    "print('Question 10. Does this distribution need correction? If so, why? How?')\n",
    "print('There are two ways to correct the dataset and obtain a normalized dataset. We can either reduce the STD or increase the sample size. Reducing the STD would entail a dataset that is closer to the mean. Additionally, to increase the sampe size we would need a dataset larger than 397 observations to analyze.')\n",
    "print('------------------------------------------------')\n",
    "\n"
   ]
  },
  {
   "cell_type": "markdown",
   "metadata": {},
   "source": [
    ">**Comments:** re question 9, I think I know what you're getting at with the last sentence. I would phrase it a little differently: if we're assuming that the distributions are normal, and this assumption underpins a lot of our statistical methods (like, say, regression), if they are not actually normal, we can't be confident that are findings are good. <br>\n",
    "Re question 10, how would you go about reducing the st dev?  Also, let's say that our sample of 397 complete obvserations is a perfectly obtained random sample.  Would collecting more data necessarily correct the skew?  "
   ]
  },
  {
   "cell_type": "code",
   "execution_count": 7,
   "metadata": {
    "collapsed": false
   },
   "outputs": [
    {
     "name": "stdout",
     "output_type": "stream",
     "text": [
      "Question 11. Which of our variables are potentially colinear\n",
      "             admit       gre       gpa  prestige\n",
      "admit     1.000000  0.181202  0.174116 -0.243563\n",
      "gre       0.181202  1.000000  0.382408 -0.124533\n",
      "gpa       0.174116  0.382408  1.000000 -0.060976\n",
      "prestige -0.243563 -0.124533 -0.060976  1.000000\n",
      "Two potentially colinear pairings would be a positive correlation between GRE and GPA and a negative correlation between undergrade presitge and graduate school admission\n",
      "------------------------------------------------\n",
      "Question 12. What did you find\n",
      "There was not any relationship that was particularlly strong. There may be additional variables that we are not considering or we need to increase the sample size\n",
      "------------------------------------------------\n"
     ]
    }
   ],
   "source": [
    "print('Question 11. Which of our variables are potentially colinear')\n",
    "print(df.corr())\n",
    "print('Two potentially colinear pairings would be a positive correlation between GRE and GPA and a negative correlation between undergrade presitge and graduate school admission')\n",
    "print('------------------------------------------------')\n",
    "\n",
    "print('Question 12. What did you find')\n",
    "print('There was not any relationship that was particularlly strong. There may be additional variables that we are not considering or we need to increase the sample size')\n",
    "print('------------------------------------------------')\n",
    "\n"
   ]
  },
  {
   "cell_type": "code",
   "execution_count": 8,
   "metadata": {
    "collapsed": false
   },
   "outputs": [
    {
     "name": "stdout",
     "output_type": "stream",
     "text": [
      "Question 13. Write an analysis plan for exploring the association between grad school admissions rates and prestige of undergraduate schools.\n",
      "When exploring the relationship between graduate school admissions and the prestige of the applicant's undergraduate institution, first look to clean the data ensure each variable maps accordingly and there are no NAN values. Once the data has been cleaned, determine each variable's distribution and kurtosis. Analyzing datasets that are not normal may yield inaccurate results. To account for a non-normal distribution, run additional tests which permissible to analyze a non-normally distributed dataset. Once these tests have been run, look at the strength of the association between the two variables in scope (admission and undergrad prestige). If there is a strong relationship and the results are statistically significant we should be able to assert that undergrad prestige is a predictor for graduate school admissions. If there is a weak relationship and/or the analysis is not statistically significant, re-examine the variables and looks to see if there may be any additional factors affecting the covariate, such as how is prestige determined and categorized.\n",
      "------------------------------------------------\n",
      "Question 14. What is your hypothesis\n",
      "My hypothesis is that the longer an individual is out of undergradate school, and the longer they are at the same company the more likely they will be to be admitted\n",
      "------------------------------------------------\n",
      "Bonus/Advanced\n",
      "1. Bonus: Explore alternatives to dropping obervations with missing data\n",
      "2. Bonus: Log transform the skewed data\n",
      "3. Advanced: Impute missing data\n"
     ]
    }
   ],
   "source": [
    "print('Question 13. Write an analysis plan for exploring the association between grad school admissions rates and prestige of undergraduate schools.')\n",
    "print(\"When exploring the relationship between graduate school admissions and the prestige of the applicant's undergraduate institution, first look to clean the data ensure each variable maps accordingly and there are no NAN values. Once the data has been cleaned, determine each variable's distribution and kurtosis. Analyzing datasets that are not normal may yield inaccurate results. To account for a non-normal distribution, run additional tests which permissible to analyze a non-normally distributed dataset. Once these tests have been run, look at the strength of the association between the two variables in scope (admission and undergrad prestige). If there is a strong relationship and the results are statistically significant we should be able to assert that undergrad prestige is a predictor for graduate school admissions. If there is a weak relationship and/or the analysis is not statistically significant, re-examine the variables and looks to see if there may be any additional factors affecting the covariate, such as how is prestige determined and categorized.\")\n",
    "print('------------------------------------------------')\n",
    "\n",
    "print('Question 14. What is your hypothesis')\n",
    "print('My hypothesis is that the longer an individual is out of undergradate school, and the longer they are at the same company the more likely they will be to be admitted')\n",
    "print('------------------------------------------------')\n",
    "\n",
    "\n",
    "\n",
    "\n",
    "print('Bonus/Advanced')\n",
    "print('1. Bonus: Explore alternatives to dropping obervations with missing data')\n",
    "print('2. Bonus: Log transform the skewed data')\n",
    "print('3. Advanced: Impute missing data')"
   ]
  },
  {
   "cell_type": "markdown",
   "metadata": {},
   "source": [
    ">**Comments:** great answer for question 13.  Thorough, and nicely explained.  I like your answer for question 14, but probably out of scope for the data we have!"
   ]
  },
  {
   "cell_type": "markdown",
   "metadata": {},
   "source": [
    "## Feedback\n",
    "Nice work!\n",
    "\n",
    "\n",
    "| Requirements | Incomplete (0) | Does Not Meet Expectations (1) | Meets Expectations (2) | Exceeds Expectations (3) |\n",
    "|---|---|---|---|---|\n",
    "| Read in your dataset, determine how many samples are present, and ID any missing data | | |X | |\n",
    "| Create a table of descriptive statistics for each of the variables (n, mean, median, standard deviation) | | |X | |\n",
    "| Describe the distributions of your data | | | X| |\n",
    "| Plot box plots for each variable | | | X| |\n",
    "| Create a covariance matrix | | |X | |\n",
    "| Determine any issues or limitations, based on your exploratory analysis | | | X| |\n",
    "| Outline exploratory analysis methods | | | X| |"
   ]
  },
  {
   "cell_type": "code",
   "execution_count": null,
   "metadata": {
    "collapsed": true
   },
   "outputs": [],
   "source": []
  }
 ],
 "metadata": {
  "kernelspec": {
   "display_name": "Python 2",
   "language": "python",
   "name": "python2"
  },
  "language_info": {
   "codemirror_mode": {
    "name": "ipython",
    "version": 2
   },
   "file_extension": ".py",
   "mimetype": "text/x-python",
   "name": "python",
   "nbconvert_exporter": "python",
   "pygments_lexer": "ipython2",
   "version": "2.7.12"
  }
 },
 "nbformat": 4,
 "nbformat_minor": 0
}
