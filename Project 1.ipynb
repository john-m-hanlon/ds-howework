{
 "cells": [
  {
   "cell_type": "code",
   "execution_count": 26,
   "metadata": {
    "collapsed": false
   },
   "outputs": [],
   "source": [
    "import numpy as np\n",
    "import pandas as pd\n",
    "import os\n",
    "import matplotlib.pyplot as plt\n",
    "\n",
    "df = pd.read_csv('admissions.csv')\n"
   ]
  },
  {
   "cell_type": "code",
   "execution_count": 27,
   "metadata": {
    "collapsed": false
   },
   "outputs": [
    {
     "data": {
      "text/html": [
       "<div>\n",
       "<table border=\"1\" class=\"dataframe\">\n",
       "  <thead>\n",
       "    <tr style=\"text-align: right;\">\n",
       "      <th></th>\n",
       "      <th>admit</th>\n",
       "      <th>gre</th>\n",
       "      <th>gpa</th>\n",
       "      <th>prestige</th>\n",
       "    </tr>\n",
       "  </thead>\n",
       "  <tbody>\n",
       "    <tr>\n",
       "      <th>0</th>\n",
       "      <td>0</td>\n",
       "      <td>380.0</td>\n",
       "      <td>3.61</td>\n",
       "      <td>3.0</td>\n",
       "    </tr>\n",
       "    <tr>\n",
       "      <th>1</th>\n",
       "      <td>1</td>\n",
       "      <td>660.0</td>\n",
       "      <td>3.67</td>\n",
       "      <td>3.0</td>\n",
       "    </tr>\n",
       "    <tr>\n",
       "      <th>2</th>\n",
       "      <td>1</td>\n",
       "      <td>800.0</td>\n",
       "      <td>4.00</td>\n",
       "      <td>1.0</td>\n",
       "    </tr>\n",
       "    <tr>\n",
       "      <th>3</th>\n",
       "      <td>1</td>\n",
       "      <td>640.0</td>\n",
       "      <td>3.19</td>\n",
       "      <td>4.0</td>\n",
       "    </tr>\n",
       "    <tr>\n",
       "      <th>4</th>\n",
       "      <td>0</td>\n",
       "      <td>520.0</td>\n",
       "      <td>2.93</td>\n",
       "      <td>4.0</td>\n",
       "    </tr>\n",
       "  </tbody>\n",
       "</table>\n",
       "</div>"
      ],
      "text/plain": [
       "   admit    gre   gpa  prestige\n",
       "0      0  380.0  3.61       3.0\n",
       "1      1  660.0  3.67       3.0\n",
       "2      1  800.0  4.00       1.0\n",
       "3      1  640.0  3.19       4.0\n",
       "4      0  520.0  2.93       4.0"
      ]
     },
     "execution_count": 27,
     "metadata": {},
     "output_type": "execute_result"
    }
   ],
   "source": [
    "df.head(n=5)"
   ]
  },
  {
   "cell_type": "markdown",
   "metadata": {},
   "source": [
    "Data Dictionary\n",
    "\n",
    "Variable | Description | Type of Variable\n",
    "---| ---| ---\n",
    "admit    | 0 = rejected 1 = accepted | Nominal\n",
    "gre      | GRE score from 0.00 - 800.00  | Ratio\n",
    "gpa      | Undergraduate GPA from 0.00 to 4.00  | Ratio\n",
    "prestige | Rank of undergraduate universities with 1.0 as the highest and 4.0 as the lowest  | Ordinal"
   ]
  },
  {
   "cell_type": "code",
   "execution_count": 28,
   "metadata": {
    "collapsed": false
   },
   "outputs": [
    {
     "data": {
      "text/html": [
       "<div>\n",
       "<table border=\"1\" class=\"dataframe\">\n",
       "  <thead>\n",
       "    <tr style=\"text-align: right;\">\n",
       "      <th></th>\n",
       "      <th>admit</th>\n",
       "      <th>gre</th>\n",
       "      <th>gpa</th>\n",
       "      <th>prestige</th>\n",
       "    </tr>\n",
       "  </thead>\n",
       "  <tbody>\n",
       "    <tr>\n",
       "      <th>count</th>\n",
       "      <td>400.000000</td>\n",
       "      <td>398.000000</td>\n",
       "      <td>398.00000</td>\n",
       "      <td>399.000000</td>\n",
       "    </tr>\n",
       "    <tr>\n",
       "      <th>mean</th>\n",
       "      <td>0.317500</td>\n",
       "      <td>588.040201</td>\n",
       "      <td>3.39093</td>\n",
       "      <td>2.486216</td>\n",
       "    </tr>\n",
       "    <tr>\n",
       "      <th>std</th>\n",
       "      <td>0.466087</td>\n",
       "      <td>115.628513</td>\n",
       "      <td>0.38063</td>\n",
       "      <td>0.945333</td>\n",
       "    </tr>\n",
       "    <tr>\n",
       "      <th>min</th>\n",
       "      <td>0.000000</td>\n",
       "      <td>220.000000</td>\n",
       "      <td>2.26000</td>\n",
       "      <td>1.000000</td>\n",
       "    </tr>\n",
       "    <tr>\n",
       "      <th>25%</th>\n",
       "      <td>0.000000</td>\n",
       "      <td>520.000000</td>\n",
       "      <td>3.13000</td>\n",
       "      <td>2.000000</td>\n",
       "    </tr>\n",
       "    <tr>\n",
       "      <th>50%</th>\n",
       "      <td>0.000000</td>\n",
       "      <td>580.000000</td>\n",
       "      <td>3.39500</td>\n",
       "      <td>2.000000</td>\n",
       "    </tr>\n",
       "    <tr>\n",
       "      <th>75%</th>\n",
       "      <td>1.000000</td>\n",
       "      <td>660.000000</td>\n",
       "      <td>3.67000</td>\n",
       "      <td>3.000000</td>\n",
       "    </tr>\n",
       "    <tr>\n",
       "      <th>max</th>\n",
       "      <td>1.000000</td>\n",
       "      <td>800.000000</td>\n",
       "      <td>4.00000</td>\n",
       "      <td>4.000000</td>\n",
       "    </tr>\n",
       "  </tbody>\n",
       "</table>\n",
       "</div>"
      ],
      "text/plain": [
       "            admit         gre        gpa    prestige\n",
       "count  400.000000  398.000000  398.00000  399.000000\n",
       "mean     0.317500  588.040201    3.39093    2.486216\n",
       "std      0.466087  115.628513    0.38063    0.945333\n",
       "min      0.000000  220.000000    2.26000    1.000000\n",
       "25%      0.000000  520.000000    3.13000    2.000000\n",
       "50%      0.000000  580.000000    3.39500    2.000000\n",
       "75%      1.000000  660.000000    3.67000    3.000000\n",
       "max      1.000000  800.000000    4.00000    4.000000"
      ]
     },
     "execution_count": 28,
     "metadata": {},
     "output_type": "execute_result"
    }
   ],
   "source": [
    "df.describe()"
   ]
  },
  {
   "cell_type": "code",
   "execution_count": 29,
   "metadata": {
    "collapsed": false
   },
   "outputs": [],
   "source": [
    "df_filter = df[(df['admit'] >= 0) & (df['gre'] > 0) & (df['gpa'] > 0) & (df['prestige'] > 0)]"
   ]
  },
  {
   "cell_type": "code",
   "execution_count": 30,
   "metadata": {
    "collapsed": false
   },
   "outputs": [
    {
     "data": {
      "text/html": [
       "<div>\n",
       "<table border=\"1\" class=\"dataframe\">\n",
       "  <thead>\n",
       "    <tr style=\"text-align: right;\">\n",
       "      <th></th>\n",
       "      <th>admit</th>\n",
       "      <th>gre</th>\n",
       "      <th>gpa</th>\n",
       "      <th>prestige</th>\n",
       "    </tr>\n",
       "  </thead>\n",
       "  <tbody>\n",
       "    <tr>\n",
       "      <th>count</th>\n",
       "      <td>397.000000</td>\n",
       "      <td>397.000000</td>\n",
       "      <td>397.000000</td>\n",
       "      <td>397.000000</td>\n",
       "    </tr>\n",
       "    <tr>\n",
       "      <th>mean</th>\n",
       "      <td>0.317380</td>\n",
       "      <td>587.858942</td>\n",
       "      <td>3.392242</td>\n",
       "      <td>2.488665</td>\n",
       "    </tr>\n",
       "    <tr>\n",
       "      <th>std</th>\n",
       "      <td>0.466044</td>\n",
       "      <td>115.717787</td>\n",
       "      <td>0.380208</td>\n",
       "      <td>0.947083</td>\n",
       "    </tr>\n",
       "    <tr>\n",
       "      <th>min</th>\n",
       "      <td>0.000000</td>\n",
       "      <td>220.000000</td>\n",
       "      <td>2.260000</td>\n",
       "      <td>1.000000</td>\n",
       "    </tr>\n",
       "    <tr>\n",
       "      <th>25%</th>\n",
       "      <td>0.000000</td>\n",
       "      <td>520.000000</td>\n",
       "      <td>3.130000</td>\n",
       "      <td>2.000000</td>\n",
       "    </tr>\n",
       "    <tr>\n",
       "      <th>50%</th>\n",
       "      <td>0.000000</td>\n",
       "      <td>580.000000</td>\n",
       "      <td>3.400000</td>\n",
       "      <td>2.000000</td>\n",
       "    </tr>\n",
       "    <tr>\n",
       "      <th>75%</th>\n",
       "      <td>1.000000</td>\n",
       "      <td>660.000000</td>\n",
       "      <td>3.670000</td>\n",
       "      <td>3.000000</td>\n",
       "    </tr>\n",
       "    <tr>\n",
       "      <th>max</th>\n",
       "      <td>1.000000</td>\n",
       "      <td>800.000000</td>\n",
       "      <td>4.000000</td>\n",
       "      <td>4.000000</td>\n",
       "    </tr>\n",
       "  </tbody>\n",
       "</table>\n",
       "</div>"
      ],
      "text/plain": [
       "            admit         gre         gpa    prestige\n",
       "count  397.000000  397.000000  397.000000  397.000000\n",
       "mean     0.317380  587.858942    3.392242    2.488665\n",
       "std      0.466044  115.717787    0.380208    0.947083\n",
       "min      0.000000  220.000000    2.260000    1.000000\n",
       "25%      0.000000  520.000000    3.130000    2.000000\n",
       "50%      0.000000  580.000000    3.400000    2.000000\n",
       "75%      1.000000  660.000000    3.670000    3.000000\n",
       "max      1.000000  800.000000    4.000000    4.000000"
      ]
     },
     "execution_count": 30,
     "metadata": {},
     "output_type": "execute_result"
    }
   ],
   "source": [
    "df_filter.describe()"
   ]
  },
  {
   "cell_type": "code",
   "execution_count": 31,
   "metadata": {
    "collapsed": true
   },
   "outputs": [],
   "source": [
    "df_filter_admit = df_filter[(df_filter['admit'] == 1)]"
   ]
  },
  {
   "cell_type": "code",
   "execution_count": 32,
   "metadata": {
    "collapsed": true
   },
   "outputs": [],
   "source": [
    "df_filter_reject = df_filter[(df_filter['admit'] == 0)]"
   ]
  },
  {
   "cell_type": "code",
   "execution_count": 33,
   "metadata": {
    "collapsed": false
   },
   "outputs": [
    {
     "name": "stdout",
     "output_type": "stream",
     "text": [
      "Accepted Applicants\n",
      "       admit         gre         gpa    prestige\n",
      "count  126.0  126.000000  126.000000  126.000000\n",
      "mean     1.0  618.571429    3.489206    2.150794\n",
      "std      0.0  109.257233    0.371655    0.921455\n",
      "min      1.0  300.000000    2.420000    1.000000\n",
      "25%      1.0  540.000000    3.220000    1.000000\n",
      "50%      1.0  620.000000    3.545000    2.000000\n",
      "75%      1.0  680.000000    3.757500    3.000000\n",
      "max      1.0  800.000000    4.000000    4.000000\n",
      "-------------------------------------------------\n",
      "Rejected Applicants\n",
      "       admit         gre         gpa    prestige\n",
      "count  271.0  271.000000  271.000000  271.000000\n",
      "mean     0.0  573.579336    3.347159    2.645756\n",
      "std      0.0  116.052798    0.376355    0.918922\n",
      "min      0.0  220.000000    2.260000    1.000000\n",
      "25%      0.0  500.000000    3.080000    2.000000\n",
      "50%      0.0  580.000000    3.340000    3.000000\n",
      "75%      0.0  660.000000    3.610000    3.000000\n",
      "max      0.0  800.000000    4.000000    4.000000\n"
     ]
    }
   ],
   "source": [
    "print('Accepted Applicants')\n",
    "print(df_filter_admit.describe())\n",
    "print('-------------------------------------------------')\n",
    "print('Rejected Applicants')\n",
    "print(df_filter_reject.describe())\n"
   ]
  },
  {
   "cell_type": "code",
   "execution_count": 34,
   "metadata": {
    "collapsed": false
   },
   "outputs": [
    {
     "name": "stdout",
     "output_type": "stream",
     "text": [
      "          admit       gre       gpa  prestige\n",
      "admit       NaN       NaN       NaN       NaN\n",
      "gre         NaN  1.000000  0.232765 -0.080485\n",
      "gpa         NaN  0.232765  1.000000 -0.039360\n",
      "prestige    NaN -0.080485 -0.039360  1.000000\n",
      "          admit       gre       gpa  prestige\n",
      "admit       NaN       NaN       NaN       NaN\n",
      "gre         NaN  1.000000  0.418175 -0.086004\n",
      "gpa         NaN  0.418175  1.000000 -0.010311\n",
      "prestige    NaN -0.086004 -0.010311  1.000000\n"
     ]
    }
   ],
   "source": [
    "print(df_filter_admit.corr())\n",
    "print(df_filter_reject.corr())"
   ]
  },
  {
   "cell_type": "code",
   "execution_count": 35,
   "metadata": {
    "collapsed": false
   },
   "outputs": [],
   "source": [
    "df_filter_admit['gre'].plot(kind='box'); #unsure why this is not plotting"
   ]
  },
  {
   "cell_type": "code",
   "execution_count": 36,
   "metadata": {
    "collapsed": false
   },
   "outputs": [
    {
     "data": {
      "text/plain": [
       "admit       0.787051\n",
       "gre        -0.150127\n",
       "gpa        -0.211765\n",
       "prestige    0.093663\n",
       "dtype: float64"
      ]
     },
     "execution_count": 36,
     "metadata": {},
     "output_type": "execute_result"
    }
   ],
   "source": [
    "df.skew()"
   ]
  },
  {
   "cell_type": "code",
   "execution_count": 37,
   "metadata": {
    "collapsed": false
   },
   "outputs": [
    {
     "data": {
      "text/plain": [
       "admit      -1.387513\n",
       "gre        -0.330065\n",
       "gpa        -0.574623\n",
       "prestige   -0.894759\n",
       "dtype: float64"
      ]
     },
     "execution_count": 37,
     "metadata": {},
     "output_type": "execute_result"
    }
   ],
   "source": [
    "df.kurt()"
   ]
  },
  {
   "cell_type": "markdown",
   "metadata": {},
   "source": [
    "1.) Create a data dictionary\n",
    "\n",
    "Variable | Description | Type of Variable\n",
    "---| ---| ---\n",
    "admit    | 0 = rejected 1 = accepted | Nominal\n",
    "gre      | GRE score from 0.00 - 800.00  | Ratio\n",
    "gpa      | Undergraduate GPA from 0.00 to 4.00  | Ratio\n",
    "prestige | Rank of undergraduate universities with 1.0 as the highest and 4.0 as the lowest  | Ordinal\n",
    "\n",
    "2.) What is the outcome?\n",
    "\n",
    "The outcome would be who is admitted or rejected from the graduate school.\n",
    "\n",
    "3.) What are the predictors/covariates?\n",
    "\n",
    "The covariates are GPA, GRE score, and the prestige of the previous undergraduate institution.\n",
    "\n",
    "4.) What timeframe is this data relevant for?\n",
    "\n",
    "The timeframe is not specified. This would undermine the validity of analysis yielded from this dataset. We would need to know several factors including: over what time period was this data collected and when the data was collected, as admission methodologies often change. The analysis is relevant for future data in an analgous environment.\n",
    "\n",
    "5.) What is the hypothesis?\n",
    "\n",
    "The hypothesis is that the relationship between GPA, GRE, school prestige, or a combination of the covariates and the outcome will be statistically significant to infer if a future candidate will be accepted into the graduate program.\n",
    "\n",
    "My hypothesis would be that of the three covariates, GPA would correlate the strongest with acceptance.\n",
    "\n",
    "6.) Using the above information, write a well-informed problem statement\n",
    "\n",
    "In a hyper-competitive employment period, the importance of a strong educational background is increasingly important. The cascading effect is an equally competitive process to be admitted into elite graduate programs. Understanding how quantitative variables such as GPA, GRE, and undergraduate university rank affect graduate school admissions would help employers identify potential high-performaning job applicants.\n",
    "\n",
    "\n",
    "1.) What are the goals of exploratory analysis?\n",
    "\n",
    "The goals of EDA are to gain additional insights which may have not been originally addressed by the study or hypothesis. EDA helps to drive future research in any given field.\n",
    "\n",
    "2a.) What are the assumptions regarding the distribution of the data?\n",
    "\n",
    "The assumptions regarding distribution are that if we determine the sample to be normally distributed we can assert that it is representative of the population, and thus is likely to produce similar results when given another random, but normally distributed, sample.\n",
    "\n",
    "2b.) How will you determine the distribution of your data?\n",
    "\n",
    "Measure the standard deviation and kurtosis for each variable\n",
    "\n",
    "3a.) How might outlier impact your analysis?\n",
    "\n",
    "Too many outliers would negatively impact our analysis. With too many outliers we might find that our data is not normally distributed, or the statistical significance threshold might not be achieved.\n",
    "\n",
    "3b.) How will you test for outliers?\n",
    "\n",
    "To test for outliers I would follow two primary methods, both relating to the distribution. The first would be to create a pandas describe table. For each variable, I would look at the max and min values. At a glance we would be able to see how large the range is wih respect to the distribution of the data. Additionally, I would look to see how many data points fall outside of 2 standard deviations from the mean. Coinciding with the above analysis, I would also plot the distribution of the same. A visual representation is also helpful to understand if your data is normal or skewed, and if skewed, in which direction.\n",
    "\n",
    "4.) What is your exploratory analysis plan?\n",
    "\n",
    "Using a trusted source, retrieve admissions data from a graduate program similar to UCLA. Ensure the data set has the same number of data points, as well as was collected from the same time period. This will help to reduce potential biases. In addition to the hypothesis proposed above, I would also look at all possible outcomes of covariate combinations (i.e. effect of GPA & GRE, GPA & GRE & Prestige, etc.) instead of just focusing on a single variable. The future analysis would see if the previous hypothesis was confirmed, as well as if the relationship between the covariates and the outcome differ by year or by institution\n"
   ]
  },
  {
   "cell_type": "code",
   "execution_count": null,
   "metadata": {
    "collapsed": true
   },
   "outputs": [],
   "source": []
  }
 ],
 "metadata": {
  "kernelspec": {
   "display_name": "Python 3",
   "language": "python",
   "name": "python3"
  },
  "language_info": {
   "codemirror_mode": {
    "name": "ipython",
    "version": 3
   },
   "file_extension": ".py",
   "mimetype": "text/x-python",
   "name": "python",
   "nbconvert_exporter": "python",
   "pygments_lexer": "ipython3",
   "version": "3.5.1"
  }
 },
 "nbformat": 4,
 "nbformat_minor": 0
}
